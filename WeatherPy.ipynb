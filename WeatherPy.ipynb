{
 "cells": [
  {
   "cell_type": "markdown",
   "metadata": {},
   "source": [
    "# WeatherPy\n",
    "----\n",
    "\n",
    "#### Note\n",
    "* Instructions have been included for each segment. You do not have to follow them exactly, but they are included to help you think through the steps.\n",
    "\n",
    "#### Analyis\n",
    "Observed Trends\n",
    "1.  \n",
    "2.  \n",
    "3.  "
   ]
  },
  {
   "cell_type": "code",
   "execution_count": 15,
   "metadata": {
    "scrolled": true
   },
   "outputs": [],
   "source": [
    "# Dependencies and Setup\n",
    "import matplotlib.pyplot as plt\n",
    "import pandas as pd\n",
    "import numpy as np\n",
    "import requests\n",
    "import time\n",
    "from scipy.stats import linregress\n",
    "\n",
    "# Import API key\n",
    "from api_keys import weather_api_key\n",
    "\n",
    "# Incorporated citipy to determine city based on latitude and longitude\n",
    "from citipy import citipy\n",
    "\n",
    "# Output File (CSV)\n",
    "output_data_file = \"output_data/cities.csv\"\n",
    "\n",
    "# Range of latitudes and longitudes\n",
    "lat_range = (-90, 90)\n",
    "lng_range = (-180, 180)"
   ]
  },
  {
   "cell_type": "markdown",
   "metadata": {},
   "source": [
    "## Generate Cities List"
   ]
  },
  {
   "cell_type": "code",
   "execution_count": 16,
   "metadata": {},
   "outputs": [],
   "source": [
    "# List for holding lat_lngs and cities\n",
    "lat_lngs = []\n",
    "cities = []\n",
    "\n",
    "# Create a set of random lat and lng combinations\n",
    "lats = np.random.uniform(lat_range[0], lat_range[1], size=100)\n",
    "lngs = np.random.uniform(lng_range[0], lng_range[1], size=100)\n",
    "lat_lngs = zip(lats, lngs)\n",
    "\n",
    "# Identify nearest city for each lat, lng combination\n",
    "for lat_lng in lat_lngs:\n",
    "    city = citipy.nearest_city(lat_lng[0], lat_lng[1]).city_name\n",
    "    \n",
    "    # If the city is unique, then add it to a our cities list\n",
    "    if city not in cities:\n",
    "        cities.append(city)\n",
    "\n",
    "# Print the city count to confirm sufficient count\n",
    "# len(cities)"
   ]
  },
  {
   "cell_type": "markdown",
   "metadata": {},
   "source": [
    "### Perform API Calls\n",
    "* Perform a weather check on each city using a series of successive API calls.\n",
    "* Include a print log of each city as it'sbeing processed (with the city number and city name).\n"
   ]
  },
  {
   "cell_type": "code",
   "execution_count": 17,
   "metadata": {
    "scrolled": true
   },
   "outputs": [],
   "source": [
    "# Save config information.\n",
    "url = \"http://api.openweathermap.org/data/2.5/weather?\"\n",
    "units = \"metric\"\n",
    "\n",
    "# Build partial query URL\n",
    "query_url = f\"{url}appid={weather_api_key}&units={units}&q=\""
   ]
  },
  {
   "cell_type": "code",
   "execution_count": 22,
   "metadata": {},
   "outputs": [],
   "source": [
    "import json\n",
    "\n",
    "temp = []\n",
    "humidities = []\n",
    "cloudiness = []\n",
    "wind_speeds = []\n",
    "lat = []\n",
    "lng = []\n",
    "country = []\n",
    "date = []\n",
    "\n",
    "city_data = []\n",
    "\n",
    "# response = requests.get(query_url + \"&q=\" + city).json()\n",
    "\n",
    "for i, city in enumerate(cities):\n",
    "    try:\n",
    "        response = requests.get(query_url + city).json()\n",
    "\n",
    "        temp.append(response[\"main\"]['temp_max'])\n",
    "        humidities.append(response['main']['humidity'])\n",
    "        cloudiness.append(response['clouds']['all'])\n",
    "        wind_speeds.append(response['wind']['speed'])\n",
    "        lat.append(response['coord']['lat'])\n",
    "        lng.append(response['coord']['lon'])\n",
    "        country.append(response['sys']['country'])\n",
    "        date.append(response['dt'])\n",
    "\n",
    "    except:\n",
    "        pass\n",
    "        \n",
    "city_data.append({\"City\": cities,\n",
    "            \"Lat\": lat,\n",
    "            \"Lng\": lng,\n",
    "            \"Max Temp\": temp,\n",
    "            \"Humidity\": humidities,\n",
    "            \"Cloudiness\": cloudiness,\n",
    "            \"Wind Speed\": wind_speeds,\n",
    "            \"Country\": country,\n",
    "            \"Date\": date})\n",
    "\n",
    "\n"
   ]
  },
  {
   "cell_type": "code",
   "execution_count": 23,
   "metadata": {},
   "outputs": [
    {
     "name": "stdout",
     "output_type": "stream",
     "text": [
      "{'City': ['kapaa', 'lwowek slaski', 'atuona', 'northam', 'tripoli', 'hithadhoo', 'bluff', 'georgetown', 'unidad', 'yumen', 'muros', 'busselton', 'labutta', 'mataura', 'belushya guba', 'albany', 'lianzhou', 'korla', 'mahebourg', 'cherskiy', 'luderitz', 'porto belo', 'marfino', 'zambezi', 'vaini', 'rincon', 'coquimbo', 'hun', 'deep river', 'sao francisco', 'reutte', 'bilibino', 'sentyabrskiy', 'taolanaro', 'andenes', 'yabelo', 'ushuaia', 'manbij', 'coulommiers', 'tidore', 'berlevag', 'kaitangata', 'yellowknife', 'rikitea', 'krasnoselkup', 'broome', 'jamestown', 'promyshlennyy', 'ushtobe', 'butaritari', 'louisbourg', 'longyearbyen', 'ancud', 'gorno-chuyskiy', 'avarua', 'bredasdorp', 'hilo', 'rocha', 'mount vernon', 'khanpur', 'esperance', 'katsuura', 'saint george', 'namibe', 'bowen', 'kruisfontein', 'macieira de cambra', 'faanui', 'glushkovo', 'egvekinot', 'qaanaaq', 'boyuibe', 'mahanoro', 'bengkulu', 'toliary', 'denpasar', 'tuktoyaktuk', 'east london', 'hailar'], 'Lat': [22.0752, 51.1107, -9.8, 51.0333, 32.8752, -0.6, -46.6, 5.4112, 8.535, 40.2833, 42.7762, -33.65, -46.1927, 42.6001, 24.7811, 41.7597, -20.4081, 68.75, -26.6481, -27.1578, 55.7028, -13.5432, -21.2, 32.296, -29.9533, 29.1268, 46.1001, -15.9486, 47.4833, 68.0546, 69.3143, 4.8833, -54.8, 36.5281, 48.8145, 70.8578, -46.2817, 62.456, -23.1203, 65.7, 42.2506, 42.097, 67.5833, 45.2514, 3.0707, 78.2186, -41.8697, -21.2078, -34.5322, 19.7297, -34.4833, 40.9126, 28.6453, -33.8667, 35.1333, 37.1041, -15.1961, -20.0167, -34.0033, 40.8594, -16.4833, 51.3392, 66.3167, 77.484, -20.4167, -19.9, -3.8004, -8.65, 69.4541, -33.0153, 49.2], 'Lng': [-159.319, 15.5858, -139.0333, -4.2167, 13.1875, 73.0833, 168.3333, 100.3354, 126.2306, 97.2, -9.0603, 115.3333, 168.8643, -73.9662, 112.3825, 86.1469, 57.7, 161.3, 15.1594, -48.5531, 37.3822, 23.1047, -175.2, -81.2354, -71.3436, 15.9477, -77.4995, -44.8644, 10.7167, 166.4372, 16.1194, 38.0833, -68.3, 37.9549, 3.085, 29.0864, 169.8464, -114.3525, -134.9692, 82.4667, -75.833, -79.2353, 63.9167, 77.9838, 172.7902, 15.6401, -73.8203, -159.775, 20.0403, -155.09, -54.3333, -73.8371, 70.6567, 121.9, 140.3, -113.5841, 12.1522, 148.2333, 24.7314, -8.3734, -151.75, 34.6328, -179.1667, -69.3632, -63.2833, 48.8, 102.2655, 115.2167, -133.0374, 27.9116, 119.7], 'Max Temp': [29.99, 22.19, 25.83, 18.55, 26.14, 26.86, 7.11, 26.05, 26.14, 20.7, 18.94, 14.94, 6.93, 31.31, 25.87, 23.43, 21.16, 5.93, 13.81, 18.22, 14.08, 12.98, 25.09, 22.98, 11.85, 26.06, 25.71, 21.83, 18.77, 6.84, 10.99, 15.29, 3.81, 26.81, 26.03, 12.89, 7.17, 24.29, 23.34, 13.04, 30.38, 28.9, 13.26, 18.1, 28, 9.91, 10.53, 25.03, 7.92, 30.16, 6.2, 33.27, 32.85, 12.07, 27.23, 42.02, 16.48, 18.53, 11.05, 16.77, 25.38, 12.36, 7.12, 6.29, 15.63, 19.2, 24.58, 22.81, 11, 17.9, 21.04], 'Humidity': [73, 52, 66, 91, 80, 76, 69, 91, 84, 37, 89, 81, 76, 56, 96, 38, 56, 62, 67, 85, 76, 48, 88, 94, 100, 46, 66, 43, 67, 62, 93, 66, 81, 43, 73, 94, 77, 43, 76, 66, 55, 62, 70, 32, 76, 87, 97, 61, 87, 71, 91, 51, 61, 88, 83, 17, 87, 83, 92, 90, 67, 96, 69, 69, 71, 86, 91, 88, 93, 80, 67], 'Cloudiness': [100, 12, 6, 17, 0, 100, 91, 20, 82, 99, 25, 100, 94, 78, 83, 100, 75, 92, 1, 71, 0, 3, 40, 100, 75, 0, 78, 78, 11, 70, 100, 98, 75, 0, 32, 100, 98, 75, 3, 95, 20, 20, 19, 1, 79, 75, 100, 75, 11, 75, 0, 40, 1, 97, 80, 0, 42, 12, 100, 0, 12, 34, 99, 48, 84, 67, 81, 40, 100, 16, 0], 'Wind Speed': [7.2, 1.58, 5.93, 5.16, 4.93, 4.3, 5.39, 0, 1.29, 4.26, 2.15, 6.25, 1.84, 3.48, 1.2, 5.5, 11.32, 5.03, 8.69, 4.38, 3, 2.56, 4.63, 1.54, 2.06, 4.39, 2.81, 2.56, 2.97, 0.6, 0.51, 5.06, 2.06, 4.96, 3.74, 4.63, 2.81, 7.72, 3.99, 4.11, 3.09, 3.58, 2.84, 2.88, 6.84, 4.12, 9.27, 3.09, 1.68, 3.6, 2.67, 6.69, 7.13, 4.96, 2.05, 10.29, 1.09, 5.97, 5.95, 1.62, 2.7, 2.75, 2.35, 1.38, 1.35, 2.55, 2.34, 1.54, 4.12, 6.84, 1.55], 'Country': ['US', 'PL', 'PF', 'GB', 'LY', 'MV', 'NZ', 'MY', 'PH', 'CN', 'ES', 'AU', 'NZ', 'US', 'CN', 'CN', 'MU', 'RU', 'NA', 'BR', 'RU', 'ZM', 'TO', 'US', 'CL', 'LY', 'CA', 'BR', 'AT', 'RU', 'NO', 'ET', 'AR', 'SY', 'FR', 'NO', 'NZ', 'CA', 'PF', 'RU', 'US', 'US', 'RU', 'KZ', 'KI', 'SJ', 'CL', 'CK', 'ZA', 'US', 'UY', 'US', 'PK', 'AU', 'JP', 'US', 'AO', 'AU', 'ZA', 'PT', 'PF', 'RU', 'RU', 'GL', 'BO', 'MG', 'ID', 'ID', 'CA', 'ZA', 'CN'], 'Date': [1658272958, 1658273210, 1658273211, 1658273211, 1658273108, 1658273211, 1658273212, 1658273199, 1658273212, 1658273213, 1658273213, 1658273213, 1658273214, 1658273214, 1658273214, 1658273215, 1658273215, 1658273215, 1658273216, 1658273216, 1658273216, 1658273217, 1658273217, 1658273217, 1658272997, 1658273218, 1658273218, 1658273218, 1658273219, 1658273219, 1658273219, 1658273220, 1658273220, 1658273220, 1658273066, 1658273221, 1658273221, 1658273222, 1658273222, 1658273222, 1658273150, 1658273040, 1658273223, 1658273223, 1658273223, 1658273224, 1658273224, 1658273225, 1658273225, 1658273225, 1658273226, 1658273226, 1658273226, 1658273191, 1658273227, 1658273105, 1658273227, 1658273228, 1658273228, 1658273228, 1658273228, 1658273229, 1658273229, 1658273229, 1658273230, 1658273230, 1658273230, 1658273153, 1658273231, 1658273231, 1658273231]}\n"
     ]
    }
   ],
   "source": [
    "\n",
    "\n",
    "print(city_data[0])"
   ]
  },
  {
   "cell_type": "markdown",
   "metadata": {},
   "source": [
    "### Convert Raw Data to DataFrame\n",
    "* Export the city data into a .csv.\n",
    "* Display the DataFrame"
   ]
  },
  {
   "cell_type": "code",
   "execution_count": 24,
   "metadata": {},
   "outputs": [
    {
     "ename": "ValueError",
     "evalue": "All arrays must be of the same length",
     "output_type": "error",
     "traceback": [
      "\u001b[1;31m---------------------------------------------------------------------------\u001b[0m",
      "\u001b[1;31mValueError\u001b[0m                                Traceback (most recent call last)",
      "\u001b[1;32m<ipython-input-24-4026f972178e>\u001b[0m in \u001b[0;36m<module>\u001b[1;34m\u001b[0m\n\u001b[0;32m     11\u001b[0m \u001b[1;31m# }\u001b[0m\u001b[1;33m\u001b[0m\u001b[1;33m\u001b[0m\u001b[1;33m\u001b[0m\u001b[0m\n\u001b[0;32m     12\u001b[0m \u001b[1;33m\u001b[0m\u001b[0m\n\u001b[1;32m---> 13\u001b[1;33m \u001b[0mweather_df\u001b[0m \u001b[1;33m=\u001b[0m \u001b[0mpd\u001b[0m\u001b[1;33m.\u001b[0m\u001b[0mDataFrame\u001b[0m\u001b[1;33m(\u001b[0m\u001b[0mcity_data\u001b[0m\u001b[1;33m[\u001b[0m\u001b[1;36m0\u001b[0m\u001b[1;33m]\u001b[0m\u001b[1;33m)\u001b[0m\u001b[1;33m\u001b[0m\u001b[1;33m\u001b[0m\u001b[0m\n\u001b[0m\u001b[0;32m     14\u001b[0m \u001b[0mweather_df\u001b[0m\u001b[1;33m.\u001b[0m\u001b[0mhead\u001b[0m\u001b[1;33m(\u001b[0m\u001b[1;33m)\u001b[0m\u001b[1;33m\u001b[0m\u001b[1;33m\u001b[0m\u001b[0m\n\u001b[0;32m     15\u001b[0m \u001b[1;33m\u001b[0m\u001b[0m\n",
      "\u001b[1;32mc:\\Users\\ameli\\anaconda3\\envs\\PythonData38\\lib\\site-packages\\pandas\\core\\frame.py\u001b[0m in \u001b[0;36m__init__\u001b[1;34m(self, data, index, columns, dtype, copy)\u001b[0m\n\u001b[0;32m    634\u001b[0m         \u001b[1;32melif\u001b[0m \u001b[0misinstance\u001b[0m\u001b[1;33m(\u001b[0m\u001b[0mdata\u001b[0m\u001b[1;33m,\u001b[0m \u001b[0mdict\u001b[0m\u001b[1;33m)\u001b[0m\u001b[1;33m:\u001b[0m\u001b[1;33m\u001b[0m\u001b[1;33m\u001b[0m\u001b[0m\n\u001b[0;32m    635\u001b[0m             \u001b[1;31m# GH#38939 de facto copy defaults to False only in non-dict cases\u001b[0m\u001b[1;33m\u001b[0m\u001b[1;33m\u001b[0m\u001b[1;33m\u001b[0m\u001b[0m\n\u001b[1;32m--> 636\u001b[1;33m             \u001b[0mmgr\u001b[0m \u001b[1;33m=\u001b[0m \u001b[0mdict_to_mgr\u001b[0m\u001b[1;33m(\u001b[0m\u001b[0mdata\u001b[0m\u001b[1;33m,\u001b[0m \u001b[0mindex\u001b[0m\u001b[1;33m,\u001b[0m \u001b[0mcolumns\u001b[0m\u001b[1;33m,\u001b[0m \u001b[0mdtype\u001b[0m\u001b[1;33m=\u001b[0m\u001b[0mdtype\u001b[0m\u001b[1;33m,\u001b[0m \u001b[0mcopy\u001b[0m\u001b[1;33m=\u001b[0m\u001b[0mcopy\u001b[0m\u001b[1;33m,\u001b[0m \u001b[0mtyp\u001b[0m\u001b[1;33m=\u001b[0m\u001b[0mmanager\u001b[0m\u001b[1;33m)\u001b[0m\u001b[1;33m\u001b[0m\u001b[1;33m\u001b[0m\u001b[0m\n\u001b[0m\u001b[0;32m    637\u001b[0m         \u001b[1;32melif\u001b[0m \u001b[0misinstance\u001b[0m\u001b[1;33m(\u001b[0m\u001b[0mdata\u001b[0m\u001b[1;33m,\u001b[0m \u001b[0mma\u001b[0m\u001b[1;33m.\u001b[0m\u001b[0mMaskedArray\u001b[0m\u001b[1;33m)\u001b[0m\u001b[1;33m:\u001b[0m\u001b[1;33m\u001b[0m\u001b[1;33m\u001b[0m\u001b[0m\n\u001b[0;32m    638\u001b[0m             \u001b[1;32mimport\u001b[0m \u001b[0mnumpy\u001b[0m\u001b[1;33m.\u001b[0m\u001b[0mma\u001b[0m\u001b[1;33m.\u001b[0m\u001b[0mmrecords\u001b[0m \u001b[1;32mas\u001b[0m \u001b[0mmrecords\u001b[0m\u001b[1;33m\u001b[0m\u001b[1;33m\u001b[0m\u001b[0m\n",
      "\u001b[1;32mc:\\Users\\ameli\\anaconda3\\envs\\PythonData38\\lib\\site-packages\\pandas\\core\\internals\\construction.py\u001b[0m in \u001b[0;36mdict_to_mgr\u001b[1;34m(data, index, columns, dtype, typ, copy)\u001b[0m\n\u001b[0;32m    500\u001b[0m         \u001b[1;31m# TODO: can we get rid of the dt64tz special case above?\u001b[0m\u001b[1;33m\u001b[0m\u001b[1;33m\u001b[0m\u001b[1;33m\u001b[0m\u001b[0m\n\u001b[0;32m    501\u001b[0m \u001b[1;33m\u001b[0m\u001b[0m\n\u001b[1;32m--> 502\u001b[1;33m     \u001b[1;32mreturn\u001b[0m \u001b[0marrays_to_mgr\u001b[0m\u001b[1;33m(\u001b[0m\u001b[0marrays\u001b[0m\u001b[1;33m,\u001b[0m \u001b[0mcolumns\u001b[0m\u001b[1;33m,\u001b[0m \u001b[0mindex\u001b[0m\u001b[1;33m,\u001b[0m \u001b[0mdtype\u001b[0m\u001b[1;33m=\u001b[0m\u001b[0mdtype\u001b[0m\u001b[1;33m,\u001b[0m \u001b[0mtyp\u001b[0m\u001b[1;33m=\u001b[0m\u001b[0mtyp\u001b[0m\u001b[1;33m,\u001b[0m \u001b[0mconsolidate\u001b[0m\u001b[1;33m=\u001b[0m\u001b[0mcopy\u001b[0m\u001b[1;33m)\u001b[0m\u001b[1;33m\u001b[0m\u001b[1;33m\u001b[0m\u001b[0m\n\u001b[0m\u001b[0;32m    503\u001b[0m \u001b[1;33m\u001b[0m\u001b[0m\n\u001b[0;32m    504\u001b[0m \u001b[1;33m\u001b[0m\u001b[0m\n",
      "\u001b[1;32mc:\\Users\\ameli\\anaconda3\\envs\\PythonData38\\lib\\site-packages\\pandas\\core\\internals\\construction.py\u001b[0m in \u001b[0;36marrays_to_mgr\u001b[1;34m(arrays, columns, index, dtype, verify_integrity, typ, consolidate)\u001b[0m\n\u001b[0;32m    118\u001b[0m         \u001b[1;31m# figure out the index, if necessary\u001b[0m\u001b[1;33m\u001b[0m\u001b[1;33m\u001b[0m\u001b[1;33m\u001b[0m\u001b[0m\n\u001b[0;32m    119\u001b[0m         \u001b[1;32mif\u001b[0m \u001b[0mindex\u001b[0m \u001b[1;32mis\u001b[0m \u001b[1;32mNone\u001b[0m\u001b[1;33m:\u001b[0m\u001b[1;33m\u001b[0m\u001b[1;33m\u001b[0m\u001b[0m\n\u001b[1;32m--> 120\u001b[1;33m             \u001b[0mindex\u001b[0m \u001b[1;33m=\u001b[0m \u001b[0m_extract_index\u001b[0m\u001b[1;33m(\u001b[0m\u001b[0marrays\u001b[0m\u001b[1;33m)\u001b[0m\u001b[1;33m\u001b[0m\u001b[1;33m\u001b[0m\u001b[0m\n\u001b[0m\u001b[0;32m    121\u001b[0m         \u001b[1;32melse\u001b[0m\u001b[1;33m:\u001b[0m\u001b[1;33m\u001b[0m\u001b[1;33m\u001b[0m\u001b[0m\n\u001b[0;32m    122\u001b[0m             \u001b[0mindex\u001b[0m \u001b[1;33m=\u001b[0m \u001b[0mensure_index\u001b[0m\u001b[1;33m(\u001b[0m\u001b[0mindex\u001b[0m\u001b[1;33m)\u001b[0m\u001b[1;33m\u001b[0m\u001b[1;33m\u001b[0m\u001b[0m\n",
      "\u001b[1;32mc:\\Users\\ameli\\anaconda3\\envs\\PythonData38\\lib\\site-packages\\pandas\\core\\internals\\construction.py\u001b[0m in \u001b[0;36m_extract_index\u001b[1;34m(data)\u001b[0m\n\u001b[0;32m    672\u001b[0m             \u001b[0mlengths\u001b[0m \u001b[1;33m=\u001b[0m \u001b[0mlist\u001b[0m\u001b[1;33m(\u001b[0m\u001b[0mset\u001b[0m\u001b[1;33m(\u001b[0m\u001b[0mraw_lengths\u001b[0m\u001b[1;33m)\u001b[0m\u001b[1;33m)\u001b[0m\u001b[1;33m\u001b[0m\u001b[1;33m\u001b[0m\u001b[0m\n\u001b[0;32m    673\u001b[0m             \u001b[1;32mif\u001b[0m \u001b[0mlen\u001b[0m\u001b[1;33m(\u001b[0m\u001b[0mlengths\u001b[0m\u001b[1;33m)\u001b[0m \u001b[1;33m>\u001b[0m \u001b[1;36m1\u001b[0m\u001b[1;33m:\u001b[0m\u001b[1;33m\u001b[0m\u001b[1;33m\u001b[0m\u001b[0m\n\u001b[1;32m--> 674\u001b[1;33m                 \u001b[1;32mraise\u001b[0m \u001b[0mValueError\u001b[0m\u001b[1;33m(\u001b[0m\u001b[1;34m\"All arrays must be of the same length\"\u001b[0m\u001b[1;33m)\u001b[0m\u001b[1;33m\u001b[0m\u001b[1;33m\u001b[0m\u001b[0m\n\u001b[0m\u001b[0;32m    675\u001b[0m \u001b[1;33m\u001b[0m\u001b[0m\n\u001b[0;32m    676\u001b[0m             \u001b[1;32mif\u001b[0m \u001b[0mhave_dicts\u001b[0m\u001b[1;33m:\u001b[0m\u001b[1;33m\u001b[0m\u001b[1;33m\u001b[0m\u001b[0m\n",
      "\u001b[1;31mValueError\u001b[0m: All arrays must be of the same length"
     ]
    }
   ],
   "source": [
    "# weather_dict = {\n",
    "#     \"city\": cities,\n",
    "#     \"lat\": lat,\n",
    "#     \"lng\": lng,\n",
    "#     \"max temp\": temp,\n",
    "#     \"humidity\": humidities,\n",
    "#     \"cloudiness\": cloudiness,\n",
    "#     \"wind speed\": wind_speeds,\n",
    "#     \"country\": country, \n",
    "#     \"date\": date\n",
    "# }\n",
    "\n",
    "weather_df = pd.DataFrame(city_data[0])\n",
    "weather_df.head()\n",
    "\n",
    "# city_data[0:10]\n",
    "# for city in city_data:\n",
    "#     print(len(city))"
   ]
  },
  {
   "cell_type": "code",
   "execution_count": null,
   "metadata": {},
   "outputs": [],
   "source": []
  },
  {
   "cell_type": "markdown",
   "metadata": {},
   "source": [
    "## Inspect the data and remove the cities where the humidity > 100%.\n",
    "----\n",
    "Skip this step if there are no cities that have humidity > 100%. "
   ]
  },
  {
   "cell_type": "code",
   "execution_count": null,
   "metadata": {},
   "outputs": [],
   "source": []
  },
  {
   "cell_type": "code",
   "execution_count": 7,
   "metadata": {},
   "outputs": [],
   "source": [
    "#  Get the indices of cities that have humidity over 100%.\n"
   ]
  },
  {
   "cell_type": "code",
   "execution_count": 8,
   "metadata": {},
   "outputs": [],
   "source": [
    "# Make a new DataFrame equal to the city data to drop all humidity outliers by index.\n",
    "# Passing \"inplace=False\" will make a copy of the city_data DataFrame, which we call \"clean_city_data\".\n"
   ]
  },
  {
   "cell_type": "code",
   "execution_count": null,
   "metadata": {},
   "outputs": [],
   "source": [
    "\n"
   ]
  },
  {
   "cell_type": "markdown",
   "metadata": {},
   "source": [
    "## Plotting the Data\n",
    "* Use proper labeling of the plots using plot titles (including date of analysis) and axes labels.\n",
    "* Save the plotted figures as .pngs in the output_data folder\n",
    "* Below are examples of what you should get but your results will be different."
   ]
  },
  {
   "cell_type": "markdown",
   "metadata": {},
   "source": [
    "## Latitude vs. Temperature Plot"
   ]
  },
  {
   "cell_type": "code",
   "execution_count": null,
   "metadata": {
    "scrolled": true
   },
   "outputs": [],
   "source": []
  },
  {
   "cell_type": "markdown",
   "metadata": {},
   "source": [
    "## Latitude vs. Humidity Plot"
   ]
  },
  {
   "cell_type": "code",
   "execution_count": null,
   "metadata": {},
   "outputs": [],
   "source": []
  },
  {
   "cell_type": "markdown",
   "metadata": {},
   "source": [
    "## Latitude vs. Cloudiness Plot"
   ]
  },
  {
   "cell_type": "code",
   "execution_count": null,
   "metadata": {},
   "outputs": [],
   "source": []
  },
  {
   "cell_type": "markdown",
   "metadata": {},
   "source": [
    "## Latitude vs. Wind Speed Plot"
   ]
  },
  {
   "cell_type": "code",
   "execution_count": null,
   "metadata": {},
   "outputs": [],
   "source": []
  },
  {
   "cell_type": "markdown",
   "metadata": {},
   "source": [
    "## Linear Regression"
   ]
  },
  {
   "cell_type": "code",
   "execution_count": null,
   "metadata": {},
   "outputs": [],
   "source": []
  },
  {
   "cell_type": "markdown",
   "metadata": {},
   "source": [
    "####  Northern Hemisphere - Max Temp vs. Latitude Linear Regression"
   ]
  },
  {
   "cell_type": "code",
   "execution_count": null,
   "metadata": {},
   "outputs": [],
   "source": []
  },
  {
   "cell_type": "markdown",
   "metadata": {},
   "source": [
    "####  Southern Hemisphere - Max Temp vs. Latitude Linear Regression"
   ]
  },
  {
   "cell_type": "code",
   "execution_count": null,
   "metadata": {},
   "outputs": [],
   "source": []
  },
  {
   "cell_type": "markdown",
   "metadata": {},
   "source": [
    "####  Northern Hemisphere - Humidity (%) vs. Latitude Linear Regression"
   ]
  },
  {
   "cell_type": "code",
   "execution_count": null,
   "metadata": {},
   "outputs": [],
   "source": []
  },
  {
   "cell_type": "markdown",
   "metadata": {},
   "source": [
    "####  Southern Hemisphere - Humidity (%) vs. Latitude Linear Regression"
   ]
  },
  {
   "cell_type": "code",
   "execution_count": null,
   "metadata": {},
   "outputs": [],
   "source": []
  },
  {
   "cell_type": "markdown",
   "metadata": {},
   "source": [
    "####  Northern Hemisphere - Cloudiness (%) vs. Latitude Linear Regression"
   ]
  },
  {
   "cell_type": "code",
   "execution_count": null,
   "metadata": {},
   "outputs": [],
   "source": []
  },
  {
   "cell_type": "markdown",
   "metadata": {},
   "source": [
    "####  Southern Hemisphere - Cloudiness (%) vs. Latitude Linear Regression"
   ]
  },
  {
   "cell_type": "code",
   "execution_count": null,
   "metadata": {},
   "outputs": [],
   "source": []
  },
  {
   "cell_type": "markdown",
   "metadata": {},
   "source": [
    "####  Northern Hemisphere - Wind Speed (mph) vs. Latitude Linear Regression"
   ]
  },
  {
   "cell_type": "code",
   "execution_count": null,
   "metadata": {},
   "outputs": [],
   "source": []
  },
  {
   "cell_type": "markdown",
   "metadata": {},
   "source": [
    "####  Southern Hemisphere - Wind Speed (mph) vs. Latitude Linear Regression"
   ]
  },
  {
   "cell_type": "code",
   "execution_count": null,
   "metadata": {},
   "outputs": [],
   "source": []
  },
  {
   "cell_type": "code",
   "execution_count": null,
   "metadata": {},
   "outputs": [],
   "source": []
  }
 ],
 "metadata": {
  "anaconda-cloud": {},
  "kernel_info": {
   "name": "python3"
  },
  "kernelspec": {
   "display_name": "Python 3.8.5 ('PythonData38')",
   "language": "python",
   "name": "python3"
  },
  "language_info": {
   "codemirror_mode": {
    "name": "ipython",
    "version": 3
   },
   "file_extension": ".py",
   "mimetype": "text/x-python",
   "name": "python",
   "nbconvert_exporter": "python",
   "pygments_lexer": "ipython3",
   "version": "3.8.5"
  },
  "latex_envs": {
   "LaTeX_envs_menu_present": true,
   "autoclose": false,
   "autocomplete": true,
   "bibliofile": "biblio.bib",
   "cite_by": "apalike",
   "current_citInitial": 1,
   "eqLabelWithNumbers": true,
   "eqNumInitial": 1,
   "hotkeys": {
    "equation": "Ctrl-E",
    "itemize": "Ctrl-I"
   },
   "labels_anchors": false,
   "latex_user_defs": false,
   "report_style_numbering": false,
   "user_envs_cfg": false
  },
  "nteract": {
   "version": "0.12.3"
  },
  "vscode": {
   "interpreter": {
    "hash": "33833b5d6400679c97edc73b628d2fe14d08e05eb6b43709982b6bc70b63e70c"
   }
  }
 },
 "nbformat": 4,
 "nbformat_minor": 2
}
